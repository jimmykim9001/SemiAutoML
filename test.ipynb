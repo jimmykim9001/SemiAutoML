{
 "cells": [
  {
   "cell_type": "markdown",
   "metadata": {},
   "source": [
    "# Phase Two (Preliminary Models)\n"
   ]
  },
  {
   "cell_type": "code",
   "execution_count": 1,
   "metadata": {},
   "outputs": [],
   "source": [
    "import pandas as pd\n",
    "from joblib import load\n",
    "from start import *\n"
   ]
  },
  {
   "cell_type": "markdown",
   "metadata": {},
   "source": [
    "## Linear Model\n",
    "Check that the following metric is in the right units and seems reasonable. Average cross-validated score is 0.8371. Because this repository only cares about prediciton power, we have not provided an analysis on the coefficients found during linear regression.\n"
   ]
  },
  {
   "cell_type": "code",
   "execution_count": 2,
   "metadata": {},
   "outputs": [
    {
     "data": {
      "text/html": [
       "<div>\n",
       "<style scoped>\n",
       "    .dataframe tbody tr th:only-of-type {\n",
       "        vertical-align: middle;\n",
       "    }\n",
       "\n",
       "    .dataframe tbody tr th {\n",
       "        vertical-align: top;\n",
       "    }\n",
       "\n",
       "    .dataframe thead th {\n",
       "        text-align: right;\n",
       "    }\n",
       "</style>\n",
       "<table border=\"1\" class=\"dataframe\">\n",
       "  <thead>\n",
       "    <tr style=\"text-align: right;\">\n",
       "      <th></th>\n",
       "      <th>Unnamed: 0</th>\n",
       "      <th>params</th>\n",
       "      <th>mean_test_score</th>\n",
       "      <th>test0_score</th>\n",
       "      <th>test1_score</th>\n",
       "      <th>test2_score</th>\n",
       "      <th>test3_score</th>\n",
       "      <th>test4_score</th>\n",
       "    </tr>\n",
       "  </thead>\n",
       "  <tbody>\n",
       "    <tr>\n",
       "      <th>0</th>\n",
       "      <td>0</td>\n",
       "      <td>{}</td>\n",
       "      <td>0.837109</td>\n",
       "      <td>0.910573</td>\n",
       "      <td>0.768507</td>\n",
       "      <td>0.766109</td>\n",
       "      <td>0.880142</td>\n",
       "      <td>0.860216</td>\n",
       "    </tr>\n",
       "  </tbody>\n",
       "</table>\n",
       "</div>"
      ],
      "text/plain": [
       "   Unnamed: 0 params  mean_test_score  test0_score  test1_score  test2_score  \\\n",
       "0           0     {}         0.837109     0.910573     0.768507     0.766109   \n",
       "\n",
       "   test3_score  test4_score  \n",
       "0     0.880142     0.860216  "
      ]
     },
     "execution_count": 2,
     "metadata": {},
     "output_type": "execute_result"
    }
   ],
   "source": [
    "results = pd.read_csv('models/nbastats2018-2019_run_05_26_19h_04m/LeastSquares_cvresults.csv')\n",
    "pipeline = load('models/nbastats2018-2019_run_05_26_19h_04m/LeastSquares_bestestimator.joblib')\n",
    "results.head()\n"
   ]
  },
  {
   "cell_type": "markdown",
   "metadata": {},
   "source": [
    "## Ridge Regression\n",
    "Check that the following metric is in the right units and seems reasonable. Best Average Cross-validated score is 0.8292 with the following parameters: {'ridge__alpha': 0.01}\n",
    "\n",
    "Make sure that the alpha scale is large enough in the following image. If not, update the ``confs/template.ini`` and run again.\n",
    "![title](models/nbastats2018-2019_run_05_26_19h_04m/RidgeRegression_hyperparam.png)\n"
   ]
  },
  {
   "cell_type": "code",
   "execution_count": 3,
   "metadata": {},
   "outputs": [
    {
     "data": {
      "text/html": [
       "<div>\n",
       "<style scoped>\n",
       "    .dataframe tbody tr th:only-of-type {\n",
       "        vertical-align: middle;\n",
       "    }\n",
       "\n",
       "    .dataframe tbody tr th {\n",
       "        vertical-align: top;\n",
       "    }\n",
       "\n",
       "    .dataframe thead th {\n",
       "        text-align: right;\n",
       "    }\n",
       "</style>\n",
       "<table border=\"1\" class=\"dataframe\">\n",
       "  <thead>\n",
       "    <tr style=\"text-align: right;\">\n",
       "      <th></th>\n",
       "      <th>Unnamed: 0</th>\n",
       "      <th>params</th>\n",
       "      <th>mean_test_score</th>\n",
       "      <th>param_ridge__alpha</th>\n",
       "      <th>test0_score</th>\n",
       "      <th>test1_score</th>\n",
       "      <th>test2_score</th>\n",
       "      <th>test3_score</th>\n",
       "      <th>test4_score</th>\n",
       "    </tr>\n",
       "  </thead>\n",
       "  <tbody>\n",
       "    <tr>\n",
       "      <th>0</th>\n",
       "      <td>0</td>\n",
       "      <td>{'ridge__alpha': 1e-06}</td>\n",
       "      <td>0.837105</td>\n",
       "      <td>0.000001</td>\n",
       "      <td>0.910563</td>\n",
       "      <td>0.768502</td>\n",
       "      <td>0.766109</td>\n",
       "      <td>0.880138</td>\n",
       "      <td>0.860215</td>\n",
       "    </tr>\n",
       "    <tr>\n",
       "      <th>1</th>\n",
       "      <td>1</td>\n",
       "      <td>{'ridge__alpha': 1e-05}</td>\n",
       "      <td>0.837068</td>\n",
       "      <td>0.000010</td>\n",
       "      <td>0.910475</td>\n",
       "      <td>0.768452</td>\n",
       "      <td>0.766106</td>\n",
       "      <td>0.880102</td>\n",
       "      <td>0.860202</td>\n",
       "    </tr>\n",
       "    <tr>\n",
       "      <th>2</th>\n",
       "      <td>2</td>\n",
       "      <td>{'ridge__alpha': 0.0001}</td>\n",
       "      <td>0.836716</td>\n",
       "      <td>0.000100</td>\n",
       "      <td>0.909671</td>\n",
       "      <td>0.767971</td>\n",
       "      <td>0.766090</td>\n",
       "      <td>0.879764</td>\n",
       "      <td>0.860082</td>\n",
       "    </tr>\n",
       "    <tr>\n",
       "      <th>3</th>\n",
       "      <td>3</td>\n",
       "      <td>{'ridge__alpha': 0.001}</td>\n",
       "      <td>0.834453</td>\n",
       "      <td>0.001000</td>\n",
       "      <td>0.905611</td>\n",
       "      <td>0.763923</td>\n",
       "      <td>0.766205</td>\n",
       "      <td>0.877261</td>\n",
       "      <td>0.859265</td>\n",
       "    </tr>\n",
       "    <tr>\n",
       "      <th>4</th>\n",
       "      <td>4</td>\n",
       "      <td>{'ridge__alpha': 0.01}</td>\n",
       "      <td>0.829233</td>\n",
       "      <td>0.010000</td>\n",
       "      <td>0.905694</td>\n",
       "      <td>0.740759</td>\n",
       "      <td>0.770418</td>\n",
       "      <td>0.869148</td>\n",
       "      <td>0.860144</td>\n",
       "    </tr>\n",
       "  </tbody>\n",
       "</table>\n",
       "</div>"
      ],
      "text/plain": [
       "   Unnamed: 0                    params  mean_test_score  param_ridge__alpha  \\\n",
       "0           0   {'ridge__alpha': 1e-06}         0.837105            0.000001   \n",
       "1           1   {'ridge__alpha': 1e-05}         0.837068            0.000010   \n",
       "2           2  {'ridge__alpha': 0.0001}         0.836716            0.000100   \n",
       "3           3   {'ridge__alpha': 0.001}         0.834453            0.001000   \n",
       "4           4    {'ridge__alpha': 0.01}         0.829233            0.010000   \n",
       "\n",
       "   test0_score  test1_score  test2_score  test3_score  test4_score  \n",
       "0     0.910563     0.768502     0.766109     0.880138     0.860215  \n",
       "1     0.910475     0.768452     0.766106     0.880102     0.860202  \n",
       "2     0.909671     0.767971     0.766090     0.879764     0.860082  \n",
       "3     0.905611     0.763923     0.766205     0.877261     0.859265  \n",
       "4     0.905694     0.740759     0.770418     0.869148     0.860144  "
      ]
     },
     "execution_count": 3,
     "metadata": {},
     "output_type": "execute_result"
    }
   ],
   "source": [
    "results = pd.read_csv('models/nbastats2018-2019_run_05_26_19h_04m/RidgeRegression_cvresults.csv')\n",
    "pipeline = load('models/nbastats2018-2019_run_05_26_19h_04m/RidgeRegression_bestestimator.joblib')\n",
    "results.head()\n"
   ]
  },
  {
   "cell_type": "markdown",
   "metadata": {},
   "source": [
    "## Lasso Regression\n",
    "Check that the following metric is in the right units and seems reasonable. Best Average Cross-validated score is 0.8469 with the following parameters: {'lasso__alpha': 0.001}\n",
    "\n",
    "Make sure that the alpha scale is large enough in the following image. If not, update the ``confs/template.ini`` and run again.\n",
    "![title](models/nbastats2018-2019_run_05_26_19h_04m/LassoRegression_hyperparam.png)\n"
   ]
  },
  {
   "cell_type": "code",
   "execution_count": null,
   "metadata": {},
   "outputs": [],
   "source": [
    "results = pd.read_csv('models/nbastats2018-2019_run_05_26_19h_04m/LassoRegression_cvresults.csv')\n",
    "pipeline = load('models/nbastats2018-2019_run_05_26_19h_04m/LassoRegression_bestestimator.joblib')\n",
    "results.head()\n"
   ]
  },
  {
   "cell_type": "markdown",
   "metadata": {},
   "source": [
    "## SVR\n",
    "Check that the following metric is in the right units and seems reasonable. Best Average Cross-validated score is 0.8534 with the following parameters: {'svr__C': 10.0, 'svr__kernel': 'rbf', 'svr__gamma': 0.1}\n",
    "\n",
    "Analyze the C and gamma parameter using the following image. If the range is too small, update the config file and run it again.\n",
    "\n",
    "![title](models/nbastats2018-2019_run_05_26_19h_04m/SVR_hyperparam.png)\n"
   ]
  },
  {
   "cell_type": "code",
   "execution_count": null,
   "metadata": {},
   "outputs": [],
   "source": [
    "results = pd.read_csv('models/nbastats2018-2019_run_05_26_19h_04m/SVR_cvresults.csv')\n",
    "pipeline = load('models/nbastats2018-2019_run_05_26_19h_04m/SVR_bestestimator.joblib')\n",
    "results.head()\n"
   ]
  },
  {
   "cell_type": "markdown",
   "metadata": {},
   "source": [
    "## KNN Regression\n",
    "Check that the following metric is in the right units and seems reasonable. Best Average Cross-validated score is 1.0152 with the following parameters: {'kneighborsregressor__n_neighbors': 35, 'kneighborsregressor__weights': 'uniform'}\n",
    "\n",
    "Analyze the K hyper-parameter using the following image. If the range is too small, update the config file and run it again.\n",
    "\n",
    "![title](models/nbastats2018-2019_run_05_26_19h_04m/KNNRegression_hyperparam.png)\n"
   ]
  },
  {
   "cell_type": "code",
   "execution_count": null,
   "metadata": {},
   "outputs": [],
   "source": [
    "results = pd.read_csv('models/nbastats2018-2019_run_05_26_19h_04m/KNNRegression_cvresults.csv')\n",
    "pipeline = load('models/nbastats2018-2019_run_05_26_19h_04m/KNNRegression_bestestimator.joblib')\n",
    "results.head()\n"
   ]
  },
  {
   "cell_type": "markdown",
   "metadata": {},
   "source": [
    "## Random Forest Regression\n",
    "Check that the following metric is in the right units and seems reasonable. Best Average Cross-validated score is 0.7734 with the following parameters: {'randomforestregressor__max_features': 'auto', 'randomforestregressor__n_estimators': 150}\n",
    "\n",
    "Analyze the hyper-parameters (Max Features and Number Estimators) using the following image. If the range is too small, update the config file and run it again.\n",
    "\n",
    "![title](models/nbastats2018-2019_run_05_26_19h_04m/RandomForestRegression_hyperparam.png)\n",
    "\n",
    "This is a graph of feature importances using gini impurity.\n",
    "![title]({'randomforestregressor__max_features': 'auto', 'randomforestregressor__n_estimators': 150}_feature_importance.png)\n"
   ]
  },
  {
   "cell_type": "code",
   "execution_count": null,
   "metadata": {},
   "outputs": [],
   "source": [
    "results = pd.read_csv('models/nbastats2018-2019_run_05_26_19h_04m/RandomForestRegression_cvresults.csv')\n",
    "pipeline = load('models/nbastats2018-2019_run_05_26_19h_04m/RandomForestRegression_bestestimator.joblib')\n",
    "results.head()\n"
   ]
  },
  {
   "cell_type": "markdown",
   "metadata": {},
   "source": [
    "## Gradient Boosted Tree Regression\n",
    "Check that the following metric is in the right units and seems reasonable. Best Average Cross-validated score is 0.7449 with the following parameters: {'xgbregressor__n_estimators': 100, 'xgbregressor__max_depth': 2, 'xgbregressor__learning_rate': 0.1}\n",
    "\n",
    "Analyze the following hyperparameters using the following image. If the range is too small, update the config file and run it again. Note that the range of xs and ys are set automatically, if you need to analyze further, open up the results csv and analyze it yourself.\n",
    "\n",
    "![title](models/nbastats2018-2019_run_05_26_19h_04m/GradientBoostedTreeRegression_hyperparam.png)\n"
   ]
  },
  {
   "cell_type": "code",
   "execution_count": null,
   "metadata": {},
   "outputs": [],
   "source": [
    "results = pd.read_csv('models/nbastats2018-2019_run_05_26_19h_04m/GradientBoostedTreeRegression_cvresults.csv')\n",
    "pipeline = load('models/nbastats2018-2019_run_05_26_19h_04m/GradientBoostedTreeRegression_bestestimator.joblib')\n",
    "results.head()\n"
   ]
  },
  {
   "cell_type": "markdown",
   "metadata": {},
   "source": [
    "## TabNet Regression\n",
    "Check that the following metric is in the right units and seems reasonable. Best Average Cross-validated score is 7.0207 with the following parameters: {'tabnet__n_d': 8, 'tabnet__n_steps': 3}\n",
    "\n",
    "Analyze the epoch graph below. If the net has not converged, then you may need to play with the settings of tabnet.\n",
    "\n",
    "![title](models/nbastats2018-2019_run_05_26_19h_04m/TabNetRegression_history.png)\n"
   ]
  },
  {
   "cell_type": "code",
   "execution_count": null,
   "metadata": {},
   "outputs": [],
   "source": [
    "results = pd.read_csv('models/nbastats2018-2019_run_05_26_19h_04m/TabNetRegression_cvresults.csv')\n",
    "pipeline = load('models/nbastats2018-2019_run_05_26_19h_04m/TabNetRegression_bestestimator.joblib')\n",
    "results.head()\n"
   ]
  },
  {
   "cell_type": "code",
   "execution_count": null,
   "metadata": {},
   "outputs": [],
   "source": [
    "import pandas as pd\n",
    "feat_imps = pd.read_csv('models/nbastats2018-2019_run_05_26_19h_04m/feat_imp.csv')\n",
    "feat_imps"
   ]
  }
 ],
 "metadata": {
  "kernelspec": {
   "display_name": "Python 3",
   "language": "python",
   "name": "python3"
  },
  "language_info": {
   "codemirror_mode": {
    "name": "ipython",
    "version": 3
   },
   "file_extension": ".py",
   "mimetype": "text/x-python",
   "name": "python",
   "nbconvert_exporter": "python",
   "pygments_lexer": "ipython3",
   "version": "3.7.3"
  }
 },
 "nbformat": 4,
 "nbformat_minor": 2
}
