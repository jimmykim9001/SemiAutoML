{
 "cells": [
  {
   "cell_type": "markdown",
   "metadata": {},
   "source": [
    "# Phase Two (Preliminary Models)\n",
    "## Linear Model\n",
    "Check that the following metric is in the right units and seems reasonable. Average cross-validated score is 0.8371. Because this repository only cares about prediciton power, we have not provided an analysis on the coefficients found during linear regression.\n",
    "## Ridge Regression\n",
    "Check that the following metric is in the right units and seems reasonable. Best Average Cross-validated score is 0.8292 with the following parameters: {'ridge__alpha': 0.01}\n",
    "\n",
    "Make sure that the alpha scale is large enough in the following image. If not, update the ``confs/template.ini`` and run again.\n",
    "![title](models/nbastats2018-2019_run_05_26_17h_06m/RidgeRegression_hyperparam.png)\n",
    "## Lasso Regression\n",
    "Check that the following metric is in the right units and seems reasonable. Best Average Cross-validated score is 0.8469 with the following parameters: {'lasso__alpha': 0.001}\n",
    "\n",
    "Make sure that the alpha scale is large enough in the following image. If not, update the ``confs/template.ini`` and run again.\n",
    "![title](models/nbastats2018-2019_run_05_26_17h_06m/LassoRegression_hyperparam.png)\n",
    "## SVR\n",
    "Check that the following metric is in the right units and seems reasonable. Best Average Cross-validated score is 0.8534 with the following parameters: {'svr__C': 10.0, 'svr__kernel': 'rbf', 'svr__gamma': 0.1}\n",
    "\n",
    "Analyze the C and gamma parameter using the following image. If the range is too small, update the config file and run it again.\n",
    "\n",
    "![title](models/nbastats2018-2019_run_05_26_17h_06m/SVR_hyperparam.png)\n",
    "## KNN Regression\n",
    "Check that the following metric is in the right units and seems reasonable. Best Average Cross-validated score is 1.0152 with the following parameters: {'kneighborsregressor__n_neighbors': 35, 'kneighborsregressor__weights': 'uniform'}\n",
    "\n",
    "Analyze the K hyper-parameter using the following image. If the range is too small, update the config file and run it again.\n",
    "\n",
    "![title](models/nbastats2018-2019_run_05_26_17h_06m/KNNRegression_hyperparam.png)\n",
    "## Gradient Boosted Tree Regression\n",
    "Check that the following metric is in the right units and seems reasonable. Best Average Cross-validated score is 0.7449 with the following parameters: {'xgbregressor__n_estimators': 100, 'xgbregressor__max_depth': 2, 'xgbregressor__learning_rate': 0.1}\n",
    "\n",
    "Analyze the following hyperparameters using the following image. If the range is too small, update the config file and run it again. Note that the range of xs and ys are set automatically, if you need to analyze further, open up the results csv and analyze it yourself.\n",
    "\n",
    "![title](models/nbastats2018-2019_run_05_26_17h_06m/GradientBoostedTreeRegression_hyperparam.png)\n",
    "## Linear Model Lasso(alpha=1.0, copy_X=True, fit_intercept=True, max_iter=1000,\n",
    "      normalize=False, positive=False, precompute=False, random_state=None,\n",
    "      selection='cyclic', tol=0.0001, warm_start=False)\n",
    "Check that the following metric is in the right units and seems reasonable. Average cross-validated score is 0.8629. Because this repository only cares about prediciton power, we have not provided an analysis on the coefficients found during linear regression.\n",
    "## Ridge Regression Lasso\n",
    "Check that the following metric is in the right units and seems reasonable. Best Average Cross-validated score is 0.8629 with the following parameters: {'ridge__alpha': 1e-06}\n",
    "\n",
    "Make sure that the alpha scale is large enough in the following image. If not, update the ``confs/template.ini`` and run again.\n",
    "![title](models/nbastats2018-2019_run_05_26_17h_06m/RidgeRegression_feat_hyperparam.png)\n",
    "## SVR Lasso\n",
    "Check that the following metric is in the right units and seems reasonable. Best Average Cross-validated score is 0.8380 with the following parameters: {'svr__C': 10.0, 'svr__kernel': 'rbf', 'svr__gamma': 0.1}\n",
    "\n",
    "Analyze the C and gamma parameter using the following image. If the range is too small, update the config file and run it again.\n",
    "\n",
    "![title](models/nbastats2018-2019_run_05_26_17h_06m/SVR_feat_hyperparam.png)\n",
    "## KNN Regression Lasso\n",
    "Check that the following metric is in the right units and seems reasonable. Best Average Cross-validated score is 0.9674 with the following parameters: {'kneighborsregressor__n_neighbors': 20, 'kneighborsregressor__weights': 'distance'}\n",
    "\n",
    "Analyze the K hyper-parameter using the following image. If the range is too small, update the config file and run it again.\n",
    "\n",
    "![title](models/nbastats2018-2019_run_05_26_17h_06m/KNNRegression_feat_hyperparam.png)\n"
   ]
  }
 ],
 "metadata": {
  "kernelspec": {
   "display_name": "Python 3",
   "language": "python",
   "name": "python3"
  },
  "language_info": {
   "codemirror_mode": {
    "name": "ipython",
    "version": 3
   },
   "file_extension": ".py",
   "mimetype": "text/x-python",
   "name": "python",
   "nbconvert_exporter": "python",
   "pygments_lexer": "ipython3",
   "version": "3.7.3"
  }
 },
 "nbformat": 4,
 "nbformat_minor": 2
}
