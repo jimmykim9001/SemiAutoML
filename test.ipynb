{
 "cells": [
  {
   "cell_type": "markdown",
   "metadata": {},
   "source": [
    "# Phase Two (Preliminary Models)\n"
   ]
  },
  {
   "cell_type": "code",
   "execution_count": null,
   "metadata": {},
   "outputs": [],
   "source": [
    "import pandas as pd\n",
    "from joblib import load\n",
    "from start import *"
   ]
  },
  {
   "cell_type": "markdown",
   "metadata": {},
   "source": [
    "## Linear Model\n",
    "Check that the following metric is in the right units and seems reasonable. Average cross-validated score is 0.8371. Because this repository only cares about prediciton power, we have not provided an analysis on the coefficients found during linear regression.\n"
   ]
  },
  {
   "cell_type": "code",
   "execution_count": null,
   "metadata": {},
   "outputs": [],
   "source": [
    "results = pd.read_csv('models/nbastats2018-2019_run_05_26_22h_51m/LeastSquares_cvresults.csv')\n",
    "pipeline = load('models/nbastats2018-2019_run_05_26_22h_51m/LeastSquares_bestestimator.joblib')\n",
    "results.head()"
   ]
  },
  {
   "cell_type": "markdown",
   "metadata": {},
   "source": [
    "## Ridge Regression\n",
    "Check that the following metric is in the right units and seems reasonable. Best Average Cross-validated score is 0.8292 with the following parameters: {'ridge__alpha': 0.01}\n",
    "\n",
    "Make sure that the alpha scale is large enough in the following image. If not, update the ``confs/template.ini`` and run again.\n",
    "![title](models/nbastats2018-2019_run_05_26_22h_51m/RidgeRegression_hyperparam.png)\n"
   ]
  },
  {
   "cell_type": "code",
   "execution_count": null,
   "metadata": {},
   "outputs": [],
   "source": [
    "results = pd.read_csv('models/nbastats2018-2019_run_05_26_22h_51m/RidgeRegression_cvresults.csv')\n",
    "pipeline = load('models/nbastats2018-2019_run_05_26_22h_51m/RidgeRegression_bestestimator.joblib')\n",
    "results.head()"
   ]
  },
  {
   "cell_type": "markdown",
   "metadata": {},
   "source": [
    "## Lasso Regression\n",
    "Check that the following metric is in the right units and seems reasonable. Best Average Cross-validated score is 0.8469 with the following parameters: {'lasso__alpha': 0.001}\n",
    "\n",
    "Make sure that the alpha scale is large enough in the following image. If not, update the ``confs/template.ini`` and run again.\n",
    "![title](models/nbastats2018-2019_run_05_26_22h_51m/LassoRegression_hyperparam.png)\n"
   ]
  },
  {
   "cell_type": "code",
   "execution_count": null,
   "metadata": {},
   "outputs": [],
   "source": [
    "results = pd.read_csv('models/nbastats2018-2019_run_05_26_22h_51m/LassoRegression_cvresults.csv')\n",
    "pipeline = load('models/nbastats2018-2019_run_05_26_22h_51m/LassoRegression_bestestimator.joblib')\n",
    "results.head()"
   ]
  },
  {
   "cell_type": "markdown",
   "metadata": {},
   "source": [
    "## SVR\n",
    "Check that the following metric is in the right units and seems reasonable. Best Average Cross-validated score is 0.8534 with the following parameters: {'svr__C': 10.0, 'svr__kernel': 'rbf', 'svr__gamma': 0.1}\n",
    "\n",
    "Analyze the C and gamma parameter using the following image. If the range is too small, update the config file and run it again.\n",
    "\n",
    "![title](models/nbastats2018-2019_run_05_26_22h_51m/SVR_hyperparam.png)\n"
   ]
  },
  {
   "cell_type": "code",
   "execution_count": null,
   "metadata": {},
   "outputs": [],
   "source": [
    "results = pd.read_csv('models/nbastats2018-2019_run_05_26_22h_51m/SVR_cvresults.csv')\n",
    "pipeline = load('models/nbastats2018-2019_run_05_26_22h_51m/SVR_bestestimator.joblib')\n",
    "results.head()"
   ]
  },
  {
   "cell_type": "markdown",
   "metadata": {},
   "source": [
    "## KNN Regression\n",
    "Check that the following metric is in the right units and seems reasonable. Best Average Cross-validated score is 1.0152 with the following parameters: {'kneighborsregressor__n_neighbors': 35, 'kneighborsregressor__weights': 'uniform'}\n",
    "\n",
    "Analyze the K hyper-parameter using the following image. If the range is too small, update the config file and run it again.\n",
    "\n",
    "![title](models/nbastats2018-2019_run_05_26_22h_51m/KNNRegression_hyperparam.png)\n"
   ]
  },
  {
   "cell_type": "code",
   "execution_count": null,
   "metadata": {},
   "outputs": [],
   "source": [
    "results = pd.read_csv('models/nbastats2018-2019_run_05_26_22h_51m/KNNRegression_cvresults.csv')\n",
    "pipeline = load('models/nbastats2018-2019_run_05_26_22h_51m/KNNRegression_bestestimator.joblib')\n",
    "results.head()"
   ]
  },
  {
   "cell_type": "markdown",
   "metadata": {},
   "source": [
    "## Random Forest Regression\n",
    "Check that the following metric is in the right units and seems reasonable. Best Average Cross-validated score is 0.7786 with the following parameters: {'randomforestregressor__max_features': 'auto', 'randomforestregressor__n_estimators': 40}\n",
    "\n",
    "Analyze the hyper-parameters (Max Features and Number Estimators) using the following image. If the range is too small, update the config file and run it again.\n",
    "\n",
    "![title](models/nbastats2018-2019_run_05_26_22h_51m/RandomForestRegression_hyperparam.png)\n",
    "\n",
    "This is a graph of feature importances using gini impurity.\n",
    "![title](models/nbastats2018-2019_run_05_26_22h_51m/RandomForestRegression_feature_importance.png)\n"
   ]
  },
  {
   "cell_type": "code",
   "execution_count": null,
   "metadata": {},
   "outputs": [],
   "source": [
    "results = pd.read_csv('models/nbastats2018-2019_run_05_26_22h_51m/RandomForestRegression_cvresults.csv')\n",
    "pipeline = load('models/nbastats2018-2019_run_05_26_22h_51m/RandomForestRegression_bestestimator.joblib')\n",
    "results.head()"
   ]
  },
  {
   "cell_type": "markdown",
   "metadata": {},
   "source": [
    "## Gradient Boosted Tree Regression\n",
    "Check that the following metric is in the right units and seems reasonable. Best Average Cross-validated score is 0.7449 with the following parameters: {'xgbregressor__n_estimators': 100, 'xgbregressor__max_depth': 2, 'xgbregressor__learning_rate': 0.1}\n",
    "\n",
    "Analyze the following hyperparameters using the following image. If the range is too small, update the config file and run it again. Note that the range of xs and ys are set automatically, if you need to analyze further, open up the results csv and analyze it yourself.\n",
    "\n",
    "![title](models/nbastats2018-2019_run_05_26_22h_51m/GradientBoostedTreeRegression_hyperparam.png)\n"
   ]
  },
  {
   "cell_type": "code",
   "execution_count": null,
   "metadata": {},
   "outputs": [],
   "source": [
    "results = pd.read_csv('models/nbastats2018-2019_run_05_26_22h_51m/GradientBoostedTreeRegression_cvresults.csv')\n",
    "pipeline = load('models/nbastats2018-2019_run_05_26_22h_51m/GradientBoostedTreeRegression_bestestimator.joblib')\n",
    "results.head()"
   ]
  },
  {
   "cell_type": "markdown",
   "metadata": {},
   "source": [
    "# Phase Three (Feature Selection)\n"
   ]
  },
  {
   "cell_type": "code",
   "execution_count": 8,
   "metadata": {},
   "outputs": [
    {
     "data": {
      "text/html": [
       "<div>\n",
       "<style scoped>\n",
       "    .dataframe tbody tr th:only-of-type {\n",
       "        vertical-align: middle;\n",
       "    }\n",
       "\n",
       "    .dataframe tbody tr th {\n",
       "        vertical-align: top;\n",
       "    }\n",
       "\n",
       "    .dataframe thead th {\n",
       "        text-align: right;\n",
       "    }\n",
       "</style>\n",
       "<table border=\"1\" class=\"dataframe\">\n",
       "  <thead>\n",
       "    <tr style=\"text-align: right;\">\n",
       "      <th></th>\n",
       "      <th>lasso__feat_imp</th>\n",
       "      <th>randfor__feat_imp</th>\n",
       "      <th>xgboost__feat_imp</th>\n",
       "    </tr>\n",
       "  </thead>\n",
       "  <tbody>\n",
       "    <tr>\n",
       "      <th>0</th>\n",
       "      <td>1.0</td>\n",
       "      <td>0.017181</td>\n",
       "      <td>0.014479</td>\n",
       "    </tr>\n",
       "    <tr>\n",
       "      <th>1</th>\n",
       "      <td>1.0</td>\n",
       "      <td>0.027601</td>\n",
       "      <td>0.022710</td>\n",
       "    </tr>\n",
       "    <tr>\n",
       "      <th>2</th>\n",
       "      <td>1.0</td>\n",
       "      <td>0.123372</td>\n",
       "      <td>0.039445</td>\n",
       "    </tr>\n",
       "    <tr>\n",
       "      <th>3</th>\n",
       "      <td>0.0</td>\n",
       "      <td>0.092399</td>\n",
       "      <td>0.086010</td>\n",
       "    </tr>\n",
       "    <tr>\n",
       "      <th>4</th>\n",
       "      <td>1.0</td>\n",
       "      <td>0.007377</td>\n",
       "      <td>0.016555</td>\n",
       "    </tr>\n",
       "  </tbody>\n",
       "</table>\n",
       "</div>"
      ],
      "text/plain": [
       "   lasso__feat_imp  randfor__feat_imp  xgboost__feat_imp\n",
       "0              1.0           0.017181           0.014479\n",
       "1              1.0           0.027601           0.022710\n",
       "2              1.0           0.123372           0.039445\n",
       "3              0.0           0.092399           0.086010\n",
       "4              1.0           0.007377           0.016555"
      ]
     },
     "execution_count": 8,
     "metadata": {},
     "output_type": "execute_result"
    }
   ],
   "source": [
    "import pandas as pd\n",
    "feat_imps = pd.read_csv('models/nbastats2018-2019_run_05_26_22h_51m/feat_imp.csv')\n",
    "feat_imps.head()"
   ]
  },
  {
   "cell_type": "markdown",
   "metadata": {},
   "source": [
    "![title](models/nbastats2018-2019_run_05_26_22h_51m/LassoRegression_featsel_improve.png)"
   ]
  },
  {
   "cell_type": "markdown",
   "metadata": {},
   "source": [
    "![title](models/nbastats2018-2019_run_05_26_22h_51m/RandomForestRegression_featsel_improve.png)"
   ]
  },
  {
   "cell_type": "code",
   "execution_count": 1,
   "metadata": {},
   "outputs": [],
   "source": [
    "import pandas as pd\n",
    "all_results = pd.read_csv('models/nbastats2018-2019_run_05_26_22h_51m/all_results.csv')"
   ]
  }
 ],
 "metadata": {
  "kernelspec": {
   "display_name": "Python 3",
   "language": "python",
   "name": "python3"
  },
  "language_info": {
   "codemirror_mode": {
    "name": "ipython",
    "version": 3
   },
   "file_extension": ".py",
   "mimetype": "text/x-python",
   "name": "python",
   "nbconvert_exporter": "python",
   "pygments_lexer": "ipython3",
   "version": "3.7.3"
  }
 },
 "nbformat": 4,
 "nbformat_minor": 2
}
